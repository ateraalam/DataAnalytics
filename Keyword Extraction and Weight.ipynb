{
 "cells": [
  {
   "cell_type": "markdown",
   "id": "36f85767",
   "metadata": {},
   "source": [
    "# Project 3"
   ]
  },
  {
   "cell_type": "markdown",
   "id": "6f1349e8",
   "metadata": {},
   "source": [
    "This project looks at keywords used in different articles and extracts different connections the keywords have to other keywords used in the articles. Extraction of such data and insights are valuable in the modern society. As businesses are moving online and are generating vast amount of data, a lot of knowledge are being collected. Harnessing these information can assist businesses in some crucial ways. Following are a few examples that display the ways businesses can benefit from projects like this. \n",
    "\n",
    "Example 1.In articles such as the ones in the dataset, extracting which keywords are being used the most can give us an idea about the topic of the article. \n",
    "\n",
    "Example 2. Having this information can then allow us to use this information to promote the article to read to customers who enjoy reading articles of similar topic.\n",
    "\n",
    "Example 3. These insights can also be used to perform SEO, by targeting these keywords to promote one's business.\n",
    "\n",
    "Let us dive into the tasks to complete this project. \n"
   ]
  },
  {
   "cell_type": "markdown",
   "id": "fef5f574",
   "metadata": {},
   "source": [
    "### **Task 1:** Import the Dataset for use in your Notebook."
   ]
  },
  {
   "cell_type": "code",
   "execution_count": 1,
   "id": "046a1fff",
   "metadata": {
    "scrolled": true
   },
   "outputs": [],
   "source": [
    "import pandas as pd"
   ]
  },
  {
   "cell_type": "code",
   "execution_count": 2,
   "id": "11b5f22b",
   "metadata": {
    "scrolled": true
   },
   "outputs": [],
   "source": [
    "data = pd.read_csv('dataset.csv')"
   ]
  },
  {
   "cell_type": "code",
   "execution_count": 3,
   "id": "195623e8",
   "metadata": {},
   "outputs": [
    {
     "data": {
      "text/html": [
       "<div>\n",
       "<style scoped>\n",
       "    .dataframe tbody tr th:only-of-type {\n",
       "        vertical-align: middle;\n",
       "    }\n",
       "\n",
       "    .dataframe tbody tr th {\n",
       "        vertical-align: top;\n",
       "    }\n",
       "\n",
       "    .dataframe thead th {\n",
       "        text-align: right;\n",
       "    }\n",
       "</style>\n",
       "<table border=\"1\" class=\"dataframe\">\n",
       "  <thead>\n",
       "    <tr style=\"text-align: right;\">\n",
       "      <th></th>\n",
       "      <th>Title</th>\n",
       "      <th>Keyword 1</th>\n",
       "      <th>Keyword 2</th>\n",
       "      <th>Keyword 3</th>\n",
       "      <th>Keyword 4</th>\n",
       "      <th>Keyword 5</th>\n",
       "      <th>Keyword 6</th>\n",
       "      <th>Keyword 7</th>\n",
       "      <th>Keyword 8</th>\n",
       "      <th>Keyword 9</th>\n",
       "      <th>Keyword 10</th>\n",
       "      <th>Keyword 11</th>\n",
       "      <th>Keyword 12</th>\n",
       "    </tr>\n",
       "  </thead>\n",
       "  <tbody>\n",
       "    <tr>\n",
       "      <th>0</th>\n",
       "      <td>Feb/03</td>\n",
       "      <td>NaN</td>\n",
       "      <td>NaN</td>\n",
       "      <td>NaN</td>\n",
       "      <td>NaN</td>\n",
       "      <td>NaN</td>\n",
       "      <td>NaN</td>\n",
       "      <td>NaN</td>\n",
       "      <td>NaN</td>\n",
       "      <td>NaN</td>\n",
       "      <td>NaN</td>\n",
       "      <td>NaN</td>\n",
       "      <td>NaN</td>\n",
       "    </tr>\n",
       "    <tr>\n",
       "      <th>1</th>\n",
       "      <td>NaN</td>\n",
       "      <td>NaN</td>\n",
       "      <td>NaN</td>\n",
       "      <td>NaN</td>\n",
       "      <td>NaN</td>\n",
       "      <td>NaN</td>\n",
       "      <td>NaN</td>\n",
       "      <td>NaN</td>\n",
       "      <td>NaN</td>\n",
       "      <td>NaN</td>\n",
       "      <td>NaN</td>\n",
       "      <td>NaN</td>\n",
       "      <td>NaN</td>\n",
       "    </tr>\n",
       "    <tr>\n",
       "      <th>2</th>\n",
       "      <td>Meta-Analyses of Financial Performance and Equ...</td>\n",
       "      <td>EQUITY</td>\n",
       "      <td>ORGANIZATIONAL sociology</td>\n",
       "      <td>PERFORMANCE</td>\n",
       "      <td>META-analysis</td>\n",
       "      <td>PSYCHOMETRICS</td>\n",
       "      <td>ORGANIZATIONAL research</td>\n",
       "      <td>FINANCIAL performance</td>\n",
       "      <td>AGENCY theory</td>\n",
       "      <td>ORGANIZATIONAL effectiveness</td>\n",
       "      <td>ORGANIZATIONAL behavior</td>\n",
       "      <td>CORPORATE governance</td>\n",
       "      <td>NaN</td>\n",
       "    </tr>\n",
       "    <tr>\n",
       "      <th>3</th>\n",
       "      <td>Home Country Environments, Corporate Diversifi...</td>\n",
       "      <td>DIVERSIFICATION in industry</td>\n",
       "      <td>BUSINESS planning</td>\n",
       "      <td>PERFORMANCE standards</td>\n",
       "      <td>EMPLOYEES -- Rating of</td>\n",
       "      <td>CORPORATE culture</td>\n",
       "      <td>STRATEGIC planning</td>\n",
       "      <td>ORGANIZATIONAL effectiveness</td>\n",
       "      <td>MANAGEMENT science</td>\n",
       "      <td>MANAGEMENT research</td>\n",
       "      <td>PRODUCT management</td>\n",
       "      <td>NaN</td>\n",
       "      <td>NaN</td>\n",
       "    </tr>\n",
       "    <tr>\n",
       "      <th>4</th>\n",
       "      <td>Safeguarding Investments in Asymmetric Interor...</td>\n",
       "      <td>INTERORGANIZATIONAL relations</td>\n",
       "      <td>INTERGROUP relations</td>\n",
       "      <td>BUSINESS communication</td>\n",
       "      <td>INVESTMENTS</td>\n",
       "      <td>SUPPLY chains</td>\n",
       "      <td>KNOWLEDGE management</td>\n",
       "      <td>INTERORGANIZATIONAL networks</td>\n",
       "      <td>CORPORATE governance</td>\n",
       "      <td>GROUP decision making</td>\n",
       "      <td>INTELLECTUAL capital</td>\n",
       "      <td>NaN</td>\n",
       "      <td>NaN</td>\n",
       "    </tr>\n",
       "  </tbody>\n",
       "</table>\n",
       "</div>"
      ],
      "text/plain": [
       "                                               Title  \\\n",
       "0                                             Feb/03   \n",
       "1                                                NaN   \n",
       "2  Meta-Analyses of Financial Performance and Equ...   \n",
       "3  Home Country Environments, Corporate Diversifi...   \n",
       "4  Safeguarding Investments in Asymmetric Interor...   \n",
       "\n",
       "                       Keyword 1                 Keyword 2  \\\n",
       "0                            NaN                       NaN   \n",
       "1                            NaN                       NaN   \n",
       "2                         EQUITY  ORGANIZATIONAL sociology   \n",
       "3    DIVERSIFICATION in industry         BUSINESS planning   \n",
       "4  INTERORGANIZATIONAL relations      INTERGROUP relations   \n",
       "\n",
       "                Keyword 3               Keyword 4          Keyword 5  \\\n",
       "0                     NaN                     NaN                NaN   \n",
       "1                     NaN                     NaN                NaN   \n",
       "2             PERFORMANCE           META-analysis      PSYCHOMETRICS   \n",
       "3   PERFORMANCE standards  EMPLOYEES -- Rating of  CORPORATE culture   \n",
       "4  BUSINESS communication             INVESTMENTS      SUPPLY chains   \n",
       "\n",
       "                 Keyword 6                     Keyword 7  \\\n",
       "0                      NaN                           NaN   \n",
       "1                      NaN                           NaN   \n",
       "2  ORGANIZATIONAL research         FINANCIAL performance   \n",
       "3       STRATEGIC planning  ORGANIZATIONAL effectiveness   \n",
       "4     KNOWLEDGE management  INTERORGANIZATIONAL networks   \n",
       "\n",
       "              Keyword 8                     Keyword 9  \\\n",
       "0                   NaN                           NaN   \n",
       "1                   NaN                           NaN   \n",
       "2         AGENCY theory  ORGANIZATIONAL effectiveness   \n",
       "3    MANAGEMENT science           MANAGEMENT research   \n",
       "4  CORPORATE governance         GROUP decision making   \n",
       "\n",
       "                Keyword 10            Keyword 11 Keyword 12  \n",
       "0                      NaN                   NaN        NaN  \n",
       "1                      NaN                   NaN        NaN  \n",
       "2  ORGANIZATIONAL behavior  CORPORATE governance        NaN  \n",
       "3       PRODUCT management                   NaN        NaN  \n",
       "4     INTELLECTUAL capital                   NaN        NaN  "
      ]
     },
     "execution_count": 3,
     "metadata": {},
     "output_type": "execute_result"
    }
   ],
   "source": [
    "data.head()"
   ]
  },
  {
   "cell_type": "markdown",
   "id": "c5582103",
   "metadata": {},
   "source": [
    "### **Task 2:**  Write a Python code to extract keyword data from the above file. "
   ]
  },
  {
   "cell_type": "markdown",
   "id": "a7f0cfa2",
   "metadata": {},
   "source": [
    "#### Step 1: Get rid of title column \n",
    "#### Step 2: Create a definitiation to get rid of NaN value and create a list of combination of keywords \n",
    "#### Step 3: Apply the definition in step 2 to all the rows "
   ]
  },
  {
   "cell_type": "code",
   "execution_count": 4,
   "id": "5f51c26e",
   "metadata": {
    "scrolled": true
   },
   "outputs": [],
   "source": [
    "from itertools import combinations\n",
    "import numpy as np\n",
    "import networkx as nx\n",
    "\n",
    "# At first, we will drop the 'Title' column and any rows that are completely NaN across keywords\n",
    "keyword_data = data.drop(columns=['Title']).dropna(how='all')\n",
    "\n",
    "#Function to process each row of the dataframe and extract keyword pairs\n",
    "def get_keyword_pairs(row):\n",
    "    \n",
    "    # Drop NaN values and convert to a list\n",
    "    keywords = row.dropna().tolist() #use .tolist to convert array into list\n",
    "    \n",
    "    #generate all possible combinations of keyword pairs within this row\n",
    "    keyword_pairs = list(combinations(keywords, 2)) #Use combinations function to create keywords combination pair of 2\n",
    "    return keyword_pairs\n",
    "\n",
    "# Apply the def get_keywords_pairs to each row and concatenate the lists\n",
    "keyword_pairs_list = keyword_data.apply(get_keyword_pairs, axis=1).sum() #use .sum & axis =1 to concatenate across each row"
   ]
  },
  {
   "cell_type": "markdown",
   "id": "dc8b97bb",
   "metadata": {},
   "source": [
    "### **Task 3:**  Read the adjacency matrix and convert it into a weighted network"
   ]
  },
  {
   "cell_type": "markdown",
   "id": "03ae74e7",
   "metadata": {},
   "source": [
    "Step 1: Get unique keywords "
   ]
  },
  {
   "cell_type": "code",
   "execution_count": 5,
   "id": "d58de020",
   "metadata": {},
   "outputs": [],
   "source": [
    "#1: Flatten the keyword pair list and get the unique keywords, \n",
    "#2: Create an array of unique keyword list \n",
    "#3: Use nested for loop to create list of unique keyword \n",
    "unique_keywords = pd.Series([keyword for pair in keyword_pairs_list for keyword in pair]).unique()"
   ]
  },
  {
   "cell_type": "markdown",
   "id": "f9a9bd4b",
   "metadata": {},
   "source": [
    "Step 2: Create a weighted adjacency matrix"
   ]
  },
  {
   "cell_type": "code",
   "execution_count": 6,
   "id": "f1dab559",
   "metadata": {},
   "outputs": [],
   "source": [
    "# Create an empty dataframe with unique keywords as both columns and index \n",
    "#fill the empty dataframe with zeroes using .fillna(0)\n",
    "adjacency_matrix = pd.DataFrame(index=unique_keywords, columns=unique_keywords).fillna(0) \n",
    "\n",
    "#Count the occurrences of each keyword pair to get weights\n",
    "keyword_pair_counts = pd.Series(keyword_pairs_list).value_counts() #Convert into pd series and use value_counts function to calculate weights \n",
    "\n",
    "# Fill the adjacency matrix with weights \n",
    "for pair, weight in keyword_pair_counts.items(): #initiate 'for loop' to iterate over items in keyword_pair_counts\n",
    "    adjacency_matrix.loc[pair[0], pair[1]] += weight #add weight to the current value by using += operator\n",
    "    adjacency_matrix.loc[pair[1], pair[0]] += weight  #undirected graph, bidirectional"
   ]
  },
  {
   "cell_type": "markdown",
   "id": "988ecb34",
   "metadata": {},
   "source": [
    "Step 3: Convert adjacency matrix to a weighted network "
   ]
  },
  {
   "cell_type": "code",
   "execution_count": 7,
   "id": "26e3edc4",
   "metadata": {},
   "outputs": [],
   "source": [
    "# Convert the adjacency matrix to a weighted network\n",
    "#following code is from networkx.org website \n",
    "G = nx.from_pandas_adjacency(adjacency_matrix) #create a network using G function from nx library"
   ]
  },
  {
   "cell_type": "markdown",
   "id": "e7916346",
   "metadata": {},
   "source": [
    "### **Task 4:**  Compute node degree and strength"
   ]
  },
  {
   "cell_type": "code",
   "execution_count": 8,
   "id": "7aa70cd5",
   "metadata": {},
   "outputs": [],
   "source": [
    "# Node degree is the number of edges incident to the node -- definition from networkx.org \n",
    "degrees = dict(G.degree()) #calculate degree node and put node and degree values in a dictionary\n",
    "\n",
    "# Node strength is the sum of edge weights of edges incident to that node -- definition from networkx.org\n",
    "strengths = dict(G.degree(weight='weight')) #directing the formula to consider weight of edges "
   ]
  },
  {
   "cell_type": "markdown",
   "id": "d1b192c3",
   "metadata": {},
   "source": [
    "### **Task 5:**  Show the top 10 nodes by degree and top 10 nodes by strength\n"
   ]
  },
  {
   "cell_type": "code",
   "execution_count": 9,
   "id": "b9dc37da",
   "metadata": {
    "scrolled": true
   },
   "outputs": [
    {
     "data": {
      "text/plain": [
       "([('ORGANIZATIONAL behavior', 166),\n",
       "  ('ORGANIZATIONAL effectiveness', 104),\n",
       "  ('MANAGEMENT science', 102),\n",
       "  ('PERSONNEL management', 93),\n",
       "  ('DECISION making', 90),\n",
       "  ('ORGANIZATIONAL structure', 74),\n",
       "  ('ORGANIZATIONAL sociology', 66),\n",
       "  ('STRATEGIC planning', 66),\n",
       "  ('INDUSTRIAL management', 64),\n",
       "  ('CORPORATE governance', 62)],\n",
       " [('ORGANIZATIONAL behavior', 265),\n",
       "  ('ORGANIZATIONAL effectiveness', 144),\n",
       "  ('MANAGEMENT science', 136),\n",
       "  ('PERSONNEL management', 126),\n",
       "  ('DECISION making', 112),\n",
       "  ('ORGANIZATIONAL structure', 107),\n",
       "  ('ORGANIZATIONAL sociology', 96),\n",
       "  ('CORPORATE governance', 85),\n",
       "  ('INDUSTRIAL management', 84),\n",
       "  ('STRATEGIC planning', 80)])"
      ]
     },
     "execution_count": 9,
     "metadata": {},
     "output_type": "execute_result"
    }
   ],
   "source": [
    "# Convert degree and strength dictionaries to sorted lists for easy access to top values\n",
    "sorted_degrees = sorted(degrees.items(), key=lambda x: x[1], reverse=True) #sort by the second element by using x:x[1] and reverse the list so that the highest values will show first \n",
    "sorted_strengths = sorted(strengths.items(), key=lambda x: x[1], reverse=True)\n",
    "\n",
    "# Display the top 10 nodes by degree and by strength\n",
    "top_10_degrees = sorted_degrees[:10] #slice to show first ten tuples\n",
    "top_10_strengths = sorted_strengths[:10] #show first ten tuples \n",
    "\n",
    "top_10_degrees, top_10_strengths"
   ]
  },
  {
   "cell_type": "markdown",
   "id": "571a1325",
   "metadata": {},
   "source": [
    "### **Task 6:** Show the top 10 node pairs by weight"
   ]
  },
  {
   "cell_type": "code",
   "execution_count": 10,
   "id": "0702b56b",
   "metadata": {},
   "outputs": [
    {
     "data": {
      "text/html": [
       "<div>\n",
       "<style scoped>\n",
       "    .dataframe tbody tr th:only-of-type {\n",
       "        vertical-align: middle;\n",
       "    }\n",
       "\n",
       "    .dataframe tbody tr th {\n",
       "        vertical-align: top;\n",
       "    }\n",
       "\n",
       "    .dataframe thead th {\n",
       "        text-align: right;\n",
       "    }\n",
       "</style>\n",
       "<table border=\"1\" class=\"dataframe\">\n",
       "  <thead>\n",
       "    <tr style=\"text-align: right;\">\n",
       "      <th></th>\n",
       "      <th>Node 1</th>\n",
       "      <th>Node 2</th>\n",
       "      <th>Weight</th>\n",
       "    </tr>\n",
       "  </thead>\n",
       "  <tbody>\n",
       "    <tr>\n",
       "      <th>172</th>\n",
       "      <td>ORGANIZATIONAL effectiveness</td>\n",
       "      <td>ORGANIZATIONAL behavior</td>\n",
       "      <td>11</td>\n",
       "    </tr>\n",
       "    <tr>\n",
       "      <th>309</th>\n",
       "      <td>ORGANIZATIONAL behavior</td>\n",
       "      <td>ORGANIZATIONAL structure</td>\n",
       "      <td>9</td>\n",
       "    </tr>\n",
       "    <tr>\n",
       "      <th>281</th>\n",
       "      <td>ORGANIZATIONAL behavior</td>\n",
       "      <td>PERSONNEL management</td>\n",
       "      <td>8</td>\n",
       "    </tr>\n",
       "    <tr>\n",
       "      <th>271</th>\n",
       "      <td>ORGANIZATIONAL behavior</td>\n",
       "      <td>MANAGEMENT science</td>\n",
       "      <td>7</td>\n",
       "    </tr>\n",
       "    <tr>\n",
       "      <th>17</th>\n",
       "      <td>ORGANIZATIONAL sociology</td>\n",
       "      <td>ORGANIZATIONAL behavior</td>\n",
       "      <td>6</td>\n",
       "    </tr>\n",
       "    <tr>\n",
       "      <th>206</th>\n",
       "      <td>ORGANIZATIONAL effectiveness</td>\n",
       "      <td>ORGANIZATIONAL structure</td>\n",
       "      <td>6</td>\n",
       "    </tr>\n",
       "    <tr>\n",
       "      <th>268</th>\n",
       "      <td>ORGANIZATIONAL behavior</td>\n",
       "      <td>CORPORATE governance</td>\n",
       "      <td>6</td>\n",
       "    </tr>\n",
       "    <tr>\n",
       "      <th>290</th>\n",
       "      <td>ORGANIZATIONAL behavior</td>\n",
       "      <td>DECISION making</td>\n",
       "      <td>6</td>\n",
       "    </tr>\n",
       "    <tr>\n",
       "      <th>45</th>\n",
       "      <td>ORGANIZATIONAL sociology</td>\n",
       "      <td>TEAMS in the workplace</td>\n",
       "      <td>5</td>\n",
       "    </tr>\n",
       "    <tr>\n",
       "      <th>303</th>\n",
       "      <td>ORGANIZATIONAL behavior</td>\n",
       "      <td>INDUSTRIAL relations</td>\n",
       "      <td>5</td>\n",
       "    </tr>\n",
       "  </tbody>\n",
       "</table>\n",
       "</div>"
      ],
      "text/plain": [
       "                           Node 1                    Node 2  Weight\n",
       "172  ORGANIZATIONAL effectiveness   ORGANIZATIONAL behavior      11\n",
       "309       ORGANIZATIONAL behavior  ORGANIZATIONAL structure       9\n",
       "281       ORGANIZATIONAL behavior      PERSONNEL management       8\n",
       "271       ORGANIZATIONAL behavior        MANAGEMENT science       7\n",
       "17       ORGANIZATIONAL sociology   ORGANIZATIONAL behavior       6\n",
       "206  ORGANIZATIONAL effectiveness  ORGANIZATIONAL structure       6\n",
       "268       ORGANIZATIONAL behavior      CORPORATE governance       6\n",
       "290       ORGANIZATIONAL behavior           DECISION making       6\n",
       "45       ORGANIZATIONAL sociology    TEAMS in the workplace       5\n",
       "303       ORGANIZATIONAL behavior      INDUSTRIAL relations       5"
      ]
     },
     "execution_count": 10,
     "metadata": {},
     "output_type": "execute_result"
    }
   ],
   "source": [
    "# Recalculate top node pairs by weight \n",
    "#formula from by hands on lab 11 \n",
    "edge_weights = [(node1, node2, data['weight']) for node1, node2, data in G.edges(data=True)]\n",
    "edge_df = pd.DataFrame(edge_weights, columns=['Node 1', 'Node 2', 'Weight'])\n",
    "#find top 10 weights\n",
    "top_weight_pairs = edge_df.nlargest(10, 'Weight')\n",
    "top_weight_pairs"
   ]
  },
  {
   "cell_type": "markdown",
   "id": "52c9bfdf",
   "metadata": {},
   "source": [
    "### **Task 7:** Plot average strength on y-axis and degree on x-axis"
   ]
  },
  {
   "cell_type": "code",
   "execution_count": 11,
   "id": "6259cbd1",
   "metadata": {},
   "outputs": [
    {
     "data": {
      "image/png": "[encoded data removed]",
      "text/plain": [
       "<Figure size 1000x600 with 1 Axes>"
      ]
     },
     "metadata": {},
     "output_type": "display_data"
    }
   ],
   "source": [
    "import matplotlib.pyplot as plt\n",
    "\n",
    "# Prepare data for plotting\n",
    "degrees_values = [degrees[node] for node in G.nodes()]\n",
    "strengths_values = [strengths[node] for node in G.nodes()]\n",
    "\n",
    "# Plot strength vs. degree\n",
    "plt.figure(figsize=(10, 6))\n",
    "plt.scatter(degrees_values, strengths_values)\n",
    "plt.title('Strength vs. Degree of Nodes')\n",
    "plt.xlabel('Degree')\n",
    "plt.ylabel('Strength')\n",
    "plt.show()\n"
   ]
  },
  {
   "cell_type": "markdown",
   "id": "20c4bb16",
   "metadata": {},
   "source": [
    "In this project, I at first uploaded the data. After uploading the data, I wrangled data by filtering out the title column as it is not useful, since we are only looking at keywords. I also took out columns with null values. I defined get_keywords_function and applied it to all the rows containing keywords from an article. Then the list of keywords is flattened and an empty array filled with the number zero is created where the index and columns are the unique keywords. Whenever these keyword pairs in index and columns are connected their weights increase. I then calculated degree and strength of individual nodes using g.degree from nx library, following examples in the networkx.org website. I sorted the nodes by the degree and strength. Then, I sorted top 10 node pairs by weight. Lastly, I plotted strength vs. degree, which shows that strength and the degree have a linear relationship. This indicates that in this dataset, higher connection to a node in this dataset also indicates higher strength. "
   ]
  },
  {
   "cell_type": "code",
   "execution_count": null,
   "id": "f12ede1b",
   "metadata": {},
   "outputs": [],
   "source": []
  }
 ],
 "metadata": {
  "kernelspec": {
   "display_name": "Python 3 (ipykernel)",
   "language": "python",
   "name": "python3"
  },
  "language_info": {
   "codemirror_mode": {
    "name": "ipython",
    "version": 3
   },
   "file_extension": ".py",
   "mimetype": "text/x-python",
   "name": "python",
   "nbconvert_exporter": "python",
   "pygments_lexer": "ipython3",
   "version": "3.11.5"
  }
 },
 "nbformat": 4,
 "nbformat_minor": 5
}
